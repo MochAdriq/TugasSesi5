{
 "cells": [
  {
   "cell_type": "markdown",
   "id": "b2b93125",
   "metadata": {},
   "source": [
    "# Tugas Sesi5"
   ]
  },
  {
   "cell_type": "markdown",
   "id": "f93341da",
   "metadata": {},
   "source": [
    "1. Buatlah biodata sederhana dengan menggunakan fungsi input(), dan output variabel dengan fungsi format()."
   ]
  },
  {
   "cell_type": "code",
   "execution_count": 1,
   "id": "cd02287c",
   "metadata": {},
   "outputs": [
    {
     "name": "stdout",
     "output_type": "stream",
     "text": [
      "Masukan nama kalian : ADriq\n",
      "Masukan Kelas Kalian : Inter\n",
      "Masukan NIM kalian : 123\n",
      "Nama saya adalah ADriq kelas Inter dan nomor NIM saya 123\n"
     ]
    }
   ],
   "source": [
    "Nama = input(\"Masukan nama kalian : \")\n",
    "Kelas = input(\"Masukan Kelas Kalian : \")\n",
    "NIM = input(\"Masukan NIM kalian : \")\n",
    "\n",
    "print(\"Nama saya adalah {} kelas {} dan nomor NIM saya {}\".format(Nama,Kelas,NIM))"
   ]
  },
  {
   "cell_type": "markdown",
   "id": "8e7607a5",
   "metadata": {},
   "source": [
    "#### 2. Jika terdapat kalimat UNIVERSITAS NUSA PUTRA SUKABUMI, buatlah kode program untuk menampilkan output:\n",
    "\n",
    "<ul>\n",
    "    <li>a. putra nusa</li>\n",
    "    <li>b. NIVERSITAS NSA PTRA SKABMI</li>\n",
    "    <li>c. SUKABUMI PUTRA NUSA UNIVERSITAS</li>\n",
    "    <li>d. UNPS</li>\n",
    "    <li>e. TAS SAPU BUMI</li>\n",
    "</ul>"
   ]
  },
  {
   "cell_type": "code",
   "execution_count": 82,
   "id": "59a983e5",
   "metadata": {},
   "outputs": [
    {
     "name": "stdout",
     "output_type": "stream",
     "text": [
      " putra nusa\n",
      "NIVERSITAS NSA PTRA SKABMI\n",
      "SUKABUMI PUTRA NUSA UNIVERSITAS \n",
      "UNPS\n",
      "TAS SAPU BUMI\n"
     ]
    }
   ],
   "source": [
    "kalimat = \"UNIVERSITAS NUSA PUTRA SUKABUMI\"\n",
    "\n",
    "a = kalimat[16:22].lower() + kalimat[11:16].lower()\n",
    "b = kalimat[1:11] + kalimat[11:13] + kalimat[14:17] + kalimat[17] + kalimat[19:23] + kalimat[23] + kalimat[25:28] + kalimat[29:31]\n",
    "c = kalimat[23:31] + kalimat[16:22] + kalimat[11:17] + kalimat[0:12]\n",
    "d = kalimat[0] + kalimat[12] + kalimat[17] + kalimat[23]\n",
    "e = kalimat[8:12] + kalimat[14:16] + kalimat[17:19]+ kalimat[16:17] + kalimat[27:31]\n",
    "\n",
    "print(a)\n",
    "print(b)\n",
    "print(c)\n",
    "print(d)\n",
    "print(e)"
   ]
  }
 ],
 "metadata": {
  "kernelspec": {
   "display_name": "Python 3 (ipykernel)",
   "language": "python",
   "name": "python3"
  },
  "language_info": {
   "codemirror_mode": {
    "name": "ipython",
    "version": 3
   },
   "file_extension": ".py",
   "mimetype": "text/x-python",
   "name": "python",
   "nbconvert_exporter": "python",
   "pygments_lexer": "ipython3",
   "version": "3.9.12"
  }
 },
 "nbformat": 4,
 "nbformat_minor": 5
}
